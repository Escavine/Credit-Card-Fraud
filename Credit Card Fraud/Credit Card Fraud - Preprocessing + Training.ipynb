{
 "cells": [
  {
   "cell_type": "code",
   "execution_count": 17,
   "id": "7c508da9",
   "metadata": {},
   "outputs": [],
   "source": [
    "# Importing pre-requisite libraries\n",
    "import numpy as np # For mathematical calculations\n",
    "import pandas as pd # For dealing with dataframes (i.e. pd.read_csv())\n",
    "import time # Measuring start and end training times\n",
    "import matplotlib.pyplot as plt # Displaying graphs \n",
    "import seaborn as sns"
   ]
  },
  {
   "cell_type": "markdown",
   "id": "d3be26a1",
   "metadata": {},
   "source": [
    "# 1. Comprehending the data "
   ]
  },
  {
   "cell_type": "markdown",
   "id": "8ad3be16",
   "metadata": {},
   "source": [
    "## Opening CSV + Checking for missing values"
   ]
  },
  {
   "cell_type": "code",
   "execution_count": 18,
   "id": "26dc2d14",
   "metadata": {},
   "outputs": [],
   "source": [
    "file_path = r'C:\\\\Users\\\\Khalid\\\\Desktop\\\\ML Projects\\\\Intermediate\\\\Credit Card Fraud\\\\creditcard.csv'\n",
    "\n",
    "# Load the CSV file\n",
    "df = pd.read_csv(file_path)"
   ]
  },
  {
   "cell_type": "code",
   "execution_count": 19,
   "id": "7f99dd9d",
   "metadata": {},
   "outputs": [
    {
     "data": {
      "text/html": [
       "<div>\n",
       "<style scoped>\n",
       "    .dataframe tbody tr th:only-of-type {\n",
       "        vertical-align: middle;\n",
       "    }\n",
       "\n",
       "    .dataframe tbody tr th {\n",
       "        vertical-align: top;\n",
       "    }\n",
       "\n",
       "    .dataframe thead th {\n",
       "        text-align: right;\n",
       "    }\n",
       "</style>\n",
       "<table border=\"1\" class=\"dataframe\">\n",
       "  <thead>\n",
       "    <tr style=\"text-align: right;\">\n",
       "      <th></th>\n",
       "      <th>Time</th>\n",
       "      <th>V1</th>\n",
       "      <th>V2</th>\n",
       "      <th>V3</th>\n",
       "      <th>V4</th>\n",
       "      <th>V5</th>\n",
       "      <th>V6</th>\n",
       "      <th>V7</th>\n",
       "      <th>V8</th>\n",
       "      <th>V9</th>\n",
       "      <th>...</th>\n",
       "      <th>V21</th>\n",
       "      <th>V22</th>\n",
       "      <th>V23</th>\n",
       "      <th>V24</th>\n",
       "      <th>V25</th>\n",
       "      <th>V26</th>\n",
       "      <th>V27</th>\n",
       "      <th>V28</th>\n",
       "      <th>Amount</th>\n",
       "      <th>Class</th>\n",
       "    </tr>\n",
       "  </thead>\n",
       "  <tbody>\n",
       "    <tr>\n",
       "      <th>0</th>\n",
       "      <td>0.0</td>\n",
       "      <td>-1.359807</td>\n",
       "      <td>-0.072781</td>\n",
       "      <td>2.536347</td>\n",
       "      <td>1.378155</td>\n",
       "      <td>-0.338321</td>\n",
       "      <td>0.462388</td>\n",
       "      <td>0.239599</td>\n",
       "      <td>0.098698</td>\n",
       "      <td>0.363787</td>\n",
       "      <td>...</td>\n",
       "      <td>-0.018307</td>\n",
       "      <td>0.277838</td>\n",
       "      <td>-0.110474</td>\n",
       "      <td>0.066928</td>\n",
       "      <td>0.128539</td>\n",
       "      <td>-0.189115</td>\n",
       "      <td>0.133558</td>\n",
       "      <td>-0.021053</td>\n",
       "      <td>149.62</td>\n",
       "      <td>0</td>\n",
       "    </tr>\n",
       "    <tr>\n",
       "      <th>1</th>\n",
       "      <td>0.0</td>\n",
       "      <td>1.191857</td>\n",
       "      <td>0.266151</td>\n",
       "      <td>0.166480</td>\n",
       "      <td>0.448154</td>\n",
       "      <td>0.060018</td>\n",
       "      <td>-0.082361</td>\n",
       "      <td>-0.078803</td>\n",
       "      <td>0.085102</td>\n",
       "      <td>-0.255425</td>\n",
       "      <td>...</td>\n",
       "      <td>-0.225775</td>\n",
       "      <td>-0.638672</td>\n",
       "      <td>0.101288</td>\n",
       "      <td>-0.339846</td>\n",
       "      <td>0.167170</td>\n",
       "      <td>0.125895</td>\n",
       "      <td>-0.008983</td>\n",
       "      <td>0.014724</td>\n",
       "      <td>2.69</td>\n",
       "      <td>0</td>\n",
       "    </tr>\n",
       "    <tr>\n",
       "      <th>2</th>\n",
       "      <td>1.0</td>\n",
       "      <td>-1.358354</td>\n",
       "      <td>-1.340163</td>\n",
       "      <td>1.773209</td>\n",
       "      <td>0.379780</td>\n",
       "      <td>-0.503198</td>\n",
       "      <td>1.800499</td>\n",
       "      <td>0.791461</td>\n",
       "      <td>0.247676</td>\n",
       "      <td>-1.514654</td>\n",
       "      <td>...</td>\n",
       "      <td>0.247998</td>\n",
       "      <td>0.771679</td>\n",
       "      <td>0.909412</td>\n",
       "      <td>-0.689281</td>\n",
       "      <td>-0.327642</td>\n",
       "      <td>-0.139097</td>\n",
       "      <td>-0.055353</td>\n",
       "      <td>-0.059752</td>\n",
       "      <td>378.66</td>\n",
       "      <td>0</td>\n",
       "    </tr>\n",
       "    <tr>\n",
       "      <th>3</th>\n",
       "      <td>1.0</td>\n",
       "      <td>-0.966272</td>\n",
       "      <td>-0.185226</td>\n",
       "      <td>1.792993</td>\n",
       "      <td>-0.863291</td>\n",
       "      <td>-0.010309</td>\n",
       "      <td>1.247203</td>\n",
       "      <td>0.237609</td>\n",
       "      <td>0.377436</td>\n",
       "      <td>-1.387024</td>\n",
       "      <td>...</td>\n",
       "      <td>-0.108300</td>\n",
       "      <td>0.005274</td>\n",
       "      <td>-0.190321</td>\n",
       "      <td>-1.175575</td>\n",
       "      <td>0.647376</td>\n",
       "      <td>-0.221929</td>\n",
       "      <td>0.062723</td>\n",
       "      <td>0.061458</td>\n",
       "      <td>123.50</td>\n",
       "      <td>0</td>\n",
       "    </tr>\n",
       "    <tr>\n",
       "      <th>4</th>\n",
       "      <td>2.0</td>\n",
       "      <td>-1.158233</td>\n",
       "      <td>0.877737</td>\n",
       "      <td>1.548718</td>\n",
       "      <td>0.403034</td>\n",
       "      <td>-0.407193</td>\n",
       "      <td>0.095921</td>\n",
       "      <td>0.592941</td>\n",
       "      <td>-0.270533</td>\n",
       "      <td>0.817739</td>\n",
       "      <td>...</td>\n",
       "      <td>-0.009431</td>\n",
       "      <td>0.798278</td>\n",
       "      <td>-0.137458</td>\n",
       "      <td>0.141267</td>\n",
       "      <td>-0.206010</td>\n",
       "      <td>0.502292</td>\n",
       "      <td>0.219422</td>\n",
       "      <td>0.215153</td>\n",
       "      <td>69.99</td>\n",
       "      <td>0</td>\n",
       "    </tr>\n",
       "  </tbody>\n",
       "</table>\n",
       "<p>5 rows × 31 columns</p>\n",
       "</div>"
      ],
      "text/plain": [
       "   Time        V1        V2        V3        V4        V5        V6        V7  \\\n",
       "0   0.0 -1.359807 -0.072781  2.536347  1.378155 -0.338321  0.462388  0.239599   \n",
       "1   0.0  1.191857  0.266151  0.166480  0.448154  0.060018 -0.082361 -0.078803   \n",
       "2   1.0 -1.358354 -1.340163  1.773209  0.379780 -0.503198  1.800499  0.791461   \n",
       "3   1.0 -0.966272 -0.185226  1.792993 -0.863291 -0.010309  1.247203  0.237609   \n",
       "4   2.0 -1.158233  0.877737  1.548718  0.403034 -0.407193  0.095921  0.592941   \n",
       "\n",
       "         V8        V9  ...       V21       V22       V23       V24       V25  \\\n",
       "0  0.098698  0.363787  ... -0.018307  0.277838 -0.110474  0.066928  0.128539   \n",
       "1  0.085102 -0.255425  ... -0.225775 -0.638672  0.101288 -0.339846  0.167170   \n",
       "2  0.247676 -1.514654  ...  0.247998  0.771679  0.909412 -0.689281 -0.327642   \n",
       "3  0.377436 -1.387024  ... -0.108300  0.005274 -0.190321 -1.175575  0.647376   \n",
       "4 -0.270533  0.817739  ... -0.009431  0.798278 -0.137458  0.141267 -0.206010   \n",
       "\n",
       "        V26       V27       V28  Amount  Class  \n",
       "0 -0.189115  0.133558 -0.021053  149.62      0  \n",
       "1  0.125895 -0.008983  0.014724    2.69      0  \n",
       "2 -0.139097 -0.055353 -0.059752  378.66      0  \n",
       "3 -0.221929  0.062723  0.061458  123.50      0  \n",
       "4  0.502292  0.219422  0.215153   69.99      0  \n",
       "\n",
       "[5 rows x 31 columns]"
      ]
     },
     "execution_count": 19,
     "metadata": {},
     "output_type": "execute_result"
    }
   ],
   "source": [
    "df.head()"
   ]
  },
  {
   "cell_type": "code",
   "execution_count": 20,
   "id": "eac8fc28",
   "metadata": {
    "scrolled": true
   },
   "outputs": [
    {
     "data": {
      "text/html": [
       "<div>\n",
       "<style scoped>\n",
       "    .dataframe tbody tr th:only-of-type {\n",
       "        vertical-align: middle;\n",
       "    }\n",
       "\n",
       "    .dataframe tbody tr th {\n",
       "        vertical-align: top;\n",
       "    }\n",
       "\n",
       "    .dataframe thead th {\n",
       "        text-align: right;\n",
       "    }\n",
       "</style>\n",
       "<table border=\"1\" class=\"dataframe\">\n",
       "  <thead>\n",
       "    <tr style=\"text-align: right;\">\n",
       "      <th></th>\n",
       "      <th>Time</th>\n",
       "      <th>V1</th>\n",
       "      <th>V2</th>\n",
       "      <th>V3</th>\n",
       "      <th>V4</th>\n",
       "      <th>V5</th>\n",
       "      <th>V6</th>\n",
       "      <th>V7</th>\n",
       "      <th>V8</th>\n",
       "      <th>V9</th>\n",
       "      <th>...</th>\n",
       "      <th>V21</th>\n",
       "      <th>V22</th>\n",
       "      <th>V23</th>\n",
       "      <th>V24</th>\n",
       "      <th>V25</th>\n",
       "      <th>V26</th>\n",
       "      <th>V27</th>\n",
       "      <th>V28</th>\n",
       "      <th>Amount</th>\n",
       "      <th>Class</th>\n",
       "    </tr>\n",
       "  </thead>\n",
       "  <tbody>\n",
       "    <tr>\n",
       "      <th>count</th>\n",
       "      <td>284807.000000</td>\n",
       "      <td>2.848070e+05</td>\n",
       "      <td>2.848070e+05</td>\n",
       "      <td>2.848070e+05</td>\n",
       "      <td>2.848070e+05</td>\n",
       "      <td>2.848070e+05</td>\n",
       "      <td>2.848070e+05</td>\n",
       "      <td>2.848070e+05</td>\n",
       "      <td>2.848070e+05</td>\n",
       "      <td>2.848070e+05</td>\n",
       "      <td>...</td>\n",
       "      <td>2.848070e+05</td>\n",
       "      <td>2.848070e+05</td>\n",
       "      <td>2.848070e+05</td>\n",
       "      <td>2.848070e+05</td>\n",
       "      <td>2.848070e+05</td>\n",
       "      <td>2.848070e+05</td>\n",
       "      <td>2.848070e+05</td>\n",
       "      <td>2.848070e+05</td>\n",
       "      <td>284807.000000</td>\n",
       "      <td>284807.000000</td>\n",
       "    </tr>\n",
       "    <tr>\n",
       "      <th>mean</th>\n",
       "      <td>94813.859575</td>\n",
       "      <td>1.168375e-15</td>\n",
       "      <td>3.416908e-16</td>\n",
       "      <td>-1.379537e-15</td>\n",
       "      <td>2.074095e-15</td>\n",
       "      <td>9.604066e-16</td>\n",
       "      <td>1.487313e-15</td>\n",
       "      <td>-5.556467e-16</td>\n",
       "      <td>1.213481e-16</td>\n",
       "      <td>-2.406331e-15</td>\n",
       "      <td>...</td>\n",
       "      <td>1.654067e-16</td>\n",
       "      <td>-3.568593e-16</td>\n",
       "      <td>2.578648e-16</td>\n",
       "      <td>4.473266e-15</td>\n",
       "      <td>5.340915e-16</td>\n",
       "      <td>1.683437e-15</td>\n",
       "      <td>-3.660091e-16</td>\n",
       "      <td>-1.227390e-16</td>\n",
       "      <td>88.349619</td>\n",
       "      <td>0.001727</td>\n",
       "    </tr>\n",
       "    <tr>\n",
       "      <th>std</th>\n",
       "      <td>47488.145955</td>\n",
       "      <td>1.958696e+00</td>\n",
       "      <td>1.651309e+00</td>\n",
       "      <td>1.516255e+00</td>\n",
       "      <td>1.415869e+00</td>\n",
       "      <td>1.380247e+00</td>\n",
       "      <td>1.332271e+00</td>\n",
       "      <td>1.237094e+00</td>\n",
       "      <td>1.194353e+00</td>\n",
       "      <td>1.098632e+00</td>\n",
       "      <td>...</td>\n",
       "      <td>7.345240e-01</td>\n",
       "      <td>7.257016e-01</td>\n",
       "      <td>6.244603e-01</td>\n",
       "      <td>6.056471e-01</td>\n",
       "      <td>5.212781e-01</td>\n",
       "      <td>4.822270e-01</td>\n",
       "      <td>4.036325e-01</td>\n",
       "      <td>3.300833e-01</td>\n",
       "      <td>250.120109</td>\n",
       "      <td>0.041527</td>\n",
       "    </tr>\n",
       "    <tr>\n",
       "      <th>min</th>\n",
       "      <td>0.000000</td>\n",
       "      <td>-5.640751e+01</td>\n",
       "      <td>-7.271573e+01</td>\n",
       "      <td>-4.832559e+01</td>\n",
       "      <td>-5.683171e+00</td>\n",
       "      <td>-1.137433e+02</td>\n",
       "      <td>-2.616051e+01</td>\n",
       "      <td>-4.355724e+01</td>\n",
       "      <td>-7.321672e+01</td>\n",
       "      <td>-1.343407e+01</td>\n",
       "      <td>...</td>\n",
       "      <td>-3.483038e+01</td>\n",
       "      <td>-1.093314e+01</td>\n",
       "      <td>-4.480774e+01</td>\n",
       "      <td>-2.836627e+00</td>\n",
       "      <td>-1.029540e+01</td>\n",
       "      <td>-2.604551e+00</td>\n",
       "      <td>-2.256568e+01</td>\n",
       "      <td>-1.543008e+01</td>\n",
       "      <td>0.000000</td>\n",
       "      <td>0.000000</td>\n",
       "    </tr>\n",
       "    <tr>\n",
       "      <th>25%</th>\n",
       "      <td>54201.500000</td>\n",
       "      <td>-9.203734e-01</td>\n",
       "      <td>-5.985499e-01</td>\n",
       "      <td>-8.903648e-01</td>\n",
       "      <td>-8.486401e-01</td>\n",
       "      <td>-6.915971e-01</td>\n",
       "      <td>-7.682956e-01</td>\n",
       "      <td>-5.540759e-01</td>\n",
       "      <td>-2.086297e-01</td>\n",
       "      <td>-6.430976e-01</td>\n",
       "      <td>...</td>\n",
       "      <td>-2.283949e-01</td>\n",
       "      <td>-5.423504e-01</td>\n",
       "      <td>-1.618463e-01</td>\n",
       "      <td>-3.545861e-01</td>\n",
       "      <td>-3.171451e-01</td>\n",
       "      <td>-3.269839e-01</td>\n",
       "      <td>-7.083953e-02</td>\n",
       "      <td>-5.295979e-02</td>\n",
       "      <td>5.600000</td>\n",
       "      <td>0.000000</td>\n",
       "    </tr>\n",
       "    <tr>\n",
       "      <th>50%</th>\n",
       "      <td>84692.000000</td>\n",
       "      <td>1.810880e-02</td>\n",
       "      <td>6.548556e-02</td>\n",
       "      <td>1.798463e-01</td>\n",
       "      <td>-1.984653e-02</td>\n",
       "      <td>-5.433583e-02</td>\n",
       "      <td>-2.741871e-01</td>\n",
       "      <td>4.010308e-02</td>\n",
       "      <td>2.235804e-02</td>\n",
       "      <td>-5.142873e-02</td>\n",
       "      <td>...</td>\n",
       "      <td>-2.945017e-02</td>\n",
       "      <td>6.781943e-03</td>\n",
       "      <td>-1.119293e-02</td>\n",
       "      <td>4.097606e-02</td>\n",
       "      <td>1.659350e-02</td>\n",
       "      <td>-5.213911e-02</td>\n",
       "      <td>1.342146e-03</td>\n",
       "      <td>1.124383e-02</td>\n",
       "      <td>22.000000</td>\n",
       "      <td>0.000000</td>\n",
       "    </tr>\n",
       "    <tr>\n",
       "      <th>75%</th>\n",
       "      <td>139320.500000</td>\n",
       "      <td>1.315642e+00</td>\n",
       "      <td>8.037239e-01</td>\n",
       "      <td>1.027196e+00</td>\n",
       "      <td>7.433413e-01</td>\n",
       "      <td>6.119264e-01</td>\n",
       "      <td>3.985649e-01</td>\n",
       "      <td>5.704361e-01</td>\n",
       "      <td>3.273459e-01</td>\n",
       "      <td>5.971390e-01</td>\n",
       "      <td>...</td>\n",
       "      <td>1.863772e-01</td>\n",
       "      <td>5.285536e-01</td>\n",
       "      <td>1.476421e-01</td>\n",
       "      <td>4.395266e-01</td>\n",
       "      <td>3.507156e-01</td>\n",
       "      <td>2.409522e-01</td>\n",
       "      <td>9.104512e-02</td>\n",
       "      <td>7.827995e-02</td>\n",
       "      <td>77.165000</td>\n",
       "      <td>0.000000</td>\n",
       "    </tr>\n",
       "    <tr>\n",
       "      <th>max</th>\n",
       "      <td>172792.000000</td>\n",
       "      <td>2.454930e+00</td>\n",
       "      <td>2.205773e+01</td>\n",
       "      <td>9.382558e+00</td>\n",
       "      <td>1.687534e+01</td>\n",
       "      <td>3.480167e+01</td>\n",
       "      <td>7.330163e+01</td>\n",
       "      <td>1.205895e+02</td>\n",
       "      <td>2.000721e+01</td>\n",
       "      <td>1.559499e+01</td>\n",
       "      <td>...</td>\n",
       "      <td>2.720284e+01</td>\n",
       "      <td>1.050309e+01</td>\n",
       "      <td>2.252841e+01</td>\n",
       "      <td>4.584549e+00</td>\n",
       "      <td>7.519589e+00</td>\n",
       "      <td>3.517346e+00</td>\n",
       "      <td>3.161220e+01</td>\n",
       "      <td>3.384781e+01</td>\n",
       "      <td>25691.160000</td>\n",
       "      <td>1.000000</td>\n",
       "    </tr>\n",
       "  </tbody>\n",
       "</table>\n",
       "<p>8 rows × 31 columns</p>\n",
       "</div>"
      ],
      "text/plain": [
       "                Time            V1            V2            V3            V4  \\\n",
       "count  284807.000000  2.848070e+05  2.848070e+05  2.848070e+05  2.848070e+05   \n",
       "mean    94813.859575  1.168375e-15  3.416908e-16 -1.379537e-15  2.074095e-15   \n",
       "std     47488.145955  1.958696e+00  1.651309e+00  1.516255e+00  1.415869e+00   \n",
       "min         0.000000 -5.640751e+01 -7.271573e+01 -4.832559e+01 -5.683171e+00   \n",
       "25%     54201.500000 -9.203734e-01 -5.985499e-01 -8.903648e-01 -8.486401e-01   \n",
       "50%     84692.000000  1.810880e-02  6.548556e-02  1.798463e-01 -1.984653e-02   \n",
       "75%    139320.500000  1.315642e+00  8.037239e-01  1.027196e+00  7.433413e-01   \n",
       "max    172792.000000  2.454930e+00  2.205773e+01  9.382558e+00  1.687534e+01   \n",
       "\n",
       "                 V5            V6            V7            V8            V9  \\\n",
       "count  2.848070e+05  2.848070e+05  2.848070e+05  2.848070e+05  2.848070e+05   \n",
       "mean   9.604066e-16  1.487313e-15 -5.556467e-16  1.213481e-16 -2.406331e-15   \n",
       "std    1.380247e+00  1.332271e+00  1.237094e+00  1.194353e+00  1.098632e+00   \n",
       "min   -1.137433e+02 -2.616051e+01 -4.355724e+01 -7.321672e+01 -1.343407e+01   \n",
       "25%   -6.915971e-01 -7.682956e-01 -5.540759e-01 -2.086297e-01 -6.430976e-01   \n",
       "50%   -5.433583e-02 -2.741871e-01  4.010308e-02  2.235804e-02 -5.142873e-02   \n",
       "75%    6.119264e-01  3.985649e-01  5.704361e-01  3.273459e-01  5.971390e-01   \n",
       "max    3.480167e+01  7.330163e+01  1.205895e+02  2.000721e+01  1.559499e+01   \n",
       "\n",
       "       ...           V21           V22           V23           V24  \\\n",
       "count  ...  2.848070e+05  2.848070e+05  2.848070e+05  2.848070e+05   \n",
       "mean   ...  1.654067e-16 -3.568593e-16  2.578648e-16  4.473266e-15   \n",
       "std    ...  7.345240e-01  7.257016e-01  6.244603e-01  6.056471e-01   \n",
       "min    ... -3.483038e+01 -1.093314e+01 -4.480774e+01 -2.836627e+00   \n",
       "25%    ... -2.283949e-01 -5.423504e-01 -1.618463e-01 -3.545861e-01   \n",
       "50%    ... -2.945017e-02  6.781943e-03 -1.119293e-02  4.097606e-02   \n",
       "75%    ...  1.863772e-01  5.285536e-01  1.476421e-01  4.395266e-01   \n",
       "max    ...  2.720284e+01  1.050309e+01  2.252841e+01  4.584549e+00   \n",
       "\n",
       "                V25           V26           V27           V28         Amount  \\\n",
       "count  2.848070e+05  2.848070e+05  2.848070e+05  2.848070e+05  284807.000000   \n",
       "mean   5.340915e-16  1.683437e-15 -3.660091e-16 -1.227390e-16      88.349619   \n",
       "std    5.212781e-01  4.822270e-01  4.036325e-01  3.300833e-01     250.120109   \n",
       "min   -1.029540e+01 -2.604551e+00 -2.256568e+01 -1.543008e+01       0.000000   \n",
       "25%   -3.171451e-01 -3.269839e-01 -7.083953e-02 -5.295979e-02       5.600000   \n",
       "50%    1.659350e-02 -5.213911e-02  1.342146e-03  1.124383e-02      22.000000   \n",
       "75%    3.507156e-01  2.409522e-01  9.104512e-02  7.827995e-02      77.165000   \n",
       "max    7.519589e+00  3.517346e+00  3.161220e+01  3.384781e+01   25691.160000   \n",
       "\n",
       "               Class  \n",
       "count  284807.000000  \n",
       "mean        0.001727  \n",
       "std         0.041527  \n",
       "min         0.000000  \n",
       "25%         0.000000  \n",
       "50%         0.000000  \n",
       "75%         0.000000  \n",
       "max         1.000000  \n",
       "\n",
       "[8 rows x 31 columns]"
      ]
     },
     "execution_count": 20,
     "metadata": {},
     "output_type": "execute_result"
    }
   ],
   "source": [
    "df.describe()"
   ]
  },
  {
   "cell_type": "code",
   "execution_count": 21,
   "id": "efb06abb",
   "metadata": {
    "scrolled": true
   },
   "outputs": [
    {
     "name": "stdout",
     "output_type": "stream",
     "text": [
      "Time      0\n",
      "V1        0\n",
      "V2        0\n",
      "V3        0\n",
      "V4        0\n",
      "V5        0\n",
      "V6        0\n",
      "V7        0\n",
      "V8        0\n",
      "V9        0\n",
      "V10       0\n",
      "V11       0\n",
      "V12       0\n",
      "V13       0\n",
      "V14       0\n",
      "V15       0\n",
      "V16       0\n",
      "V17       0\n",
      "V18       0\n",
      "V19       0\n",
      "V20       0\n",
      "V21       0\n",
      "V22       0\n",
      "V23       0\n",
      "V24       0\n",
      "V25       0\n",
      "V26       0\n",
      "V27       0\n",
      "V28       0\n",
      "Amount    0\n",
      "Class     0\n",
      "dtype: int64\n"
     ]
    }
   ],
   "source": [
    "missing_values = df.isnull().sum()\n",
    "print(missing_values)"
   ]
  },
  {
   "cell_type": "markdown",
   "id": "400755e1",
   "metadata": {},
   "source": [
    "# 2. Data Preprocessing"
   ]
  },
  {
   "cell_type": "markdown",
   "id": "5cef5080",
   "metadata": {},
   "source": [
    "## Scaling + distribution"
   ]
  },
  {
   "cell_type": "code",
   "execution_count": 22,
   "id": "f8abf7c9",
   "metadata": {
    "scrolled": true
   },
   "outputs": [],
   "source": [
    "# We can see from the dataset that the V1, V2, V3 values aren't understandable and the only sensible pieces of data are amount and time\n",
    "# Due to this, we can scale these features with robust scaler to mitigate outliers (data that falls out of place)\n",
    "# We will do this by creating new features (feature engineering) called 'scaled_amount' and 'scaled_time'\n",
    "\n",
    "from sklearn.preprocessing import RobustScaler\n",
    "\n",
    "# Initialize the scalers\n",
    "rob_scaler = RobustScaler()\n",
    "\n",
    "# Scale 'Amount' and 'Time' columns\n",
    "df['scaled_amount'] = rob_scaler.fit_transform(df['Amount'].values.reshape(-1, 1))\n",
    "df['scaled_time'] = rob_scaler.fit_transform(df['Time'].values.reshape(-1, 1))\n",
    "\n",
    "# Drop the original 'Time' and 'Amount' columns\n",
    "df.drop(['Time', 'Amount'], axis=1, inplace=True)\n",
    "\n",
    "# Insert the scaled features at the beginning of the dataframe\n",
    "df.insert(0, 'scaled_amount', df.pop('scaled_amount'))\n",
    "df.insert(1, 'scaled_time', df.pop('scaled_time'))"
   ]
  },
  {
   "cell_type": "code",
   "execution_count": 23,
   "id": "e7363037",
   "metadata": {},
   "outputs": [
    {
     "name": "stdout",
     "output_type": "stream",
     "text": [
      "Non frauded cases:  99.83 % of the dataset.\n",
      "Frauded cases:  0.17 % of the dataset.\n"
     ]
    }
   ],
   "source": [
    "# Checking the percentage of frauded and non-frauded cases\n",
    "\n",
    "print(\"Non frauded cases: \", round(df['Class'].value_counts()[0]/len(df) \n",
    "                                   * 100, 2), \"% of the dataset.\")\n",
    "\n",
    "print(\"Frauded cases: \", round(df['Class'].value_counts()[1]/len(df) \n",
    "                                   * 100, 2), \"% of the dataset.\")\n"
   ]
  },
  {
   "cell_type": "markdown",
   "id": "d41af7bc",
   "metadata": {},
   "source": [
    "## Random Undersampling "
   ]
  },
  {
   "cell_type": "code",
   "execution_count": 24,
   "id": "a305caaa",
   "metadata": {
    "scrolled": true
   },
   "outputs": [
    {
     "data": {
      "text/html": [
       "<div>\n",
       "<style scoped>\n",
       "    .dataframe tbody tr th:only-of-type {\n",
       "        vertical-align: middle;\n",
       "    }\n",
       "\n",
       "    .dataframe tbody tr th {\n",
       "        vertical-align: top;\n",
       "    }\n",
       "\n",
       "    .dataframe thead th {\n",
       "        text-align: right;\n",
       "    }\n",
       "</style>\n",
       "<table border=\"1\" class=\"dataframe\">\n",
       "  <thead>\n",
       "    <tr style=\"text-align: right;\">\n",
       "      <th></th>\n",
       "      <th>scaled_amount</th>\n",
       "      <th>scaled_time</th>\n",
       "      <th>V1</th>\n",
       "      <th>V2</th>\n",
       "      <th>V3</th>\n",
       "      <th>V4</th>\n",
       "      <th>V5</th>\n",
       "      <th>V6</th>\n",
       "      <th>V7</th>\n",
       "      <th>V8</th>\n",
       "      <th>...</th>\n",
       "      <th>V20</th>\n",
       "      <th>V21</th>\n",
       "      <th>V22</th>\n",
       "      <th>V23</th>\n",
       "      <th>V24</th>\n",
       "      <th>V25</th>\n",
       "      <th>V26</th>\n",
       "      <th>V27</th>\n",
       "      <th>V28</th>\n",
       "      <th>Class</th>\n",
       "    </tr>\n",
       "  </thead>\n",
       "  <tbody>\n",
       "    <tr>\n",
       "      <th>121</th>\n",
       "      <td>-0.179976</td>\n",
       "      <td>-0.994079</td>\n",
       "      <td>-0.427191</td>\n",
       "      <td>0.745708</td>\n",
       "      <td>1.761811</td>\n",
       "      <td>-0.165130</td>\n",
       "      <td>0.058298</td>\n",
       "      <td>-0.213413</td>\n",
       "      <td>0.647323</td>\n",
       "      <td>0.073464</td>\n",
       "      <td>...</td>\n",
       "      <td>0.052828</td>\n",
       "      <td>-0.201681</td>\n",
       "      <td>-0.432070</td>\n",
       "      <td>0.013164</td>\n",
       "      <td>0.161606</td>\n",
       "      <td>-0.401310</td>\n",
       "      <td>0.047423</td>\n",
       "      <td>0.102549</td>\n",
       "      <td>-0.116571</td>\n",
       "      <td>0</td>\n",
       "    </tr>\n",
       "    <tr>\n",
       "      <th>248296</th>\n",
       "      <td>-0.307413</td>\n",
       "      <td>0.812780</td>\n",
       "      <td>-0.613696</td>\n",
       "      <td>3.698772</td>\n",
       "      <td>-5.534941</td>\n",
       "      <td>5.620486</td>\n",
       "      <td>1.649263</td>\n",
       "      <td>-2.335145</td>\n",
       "      <td>-0.907188</td>\n",
       "      <td>0.706362</td>\n",
       "      <td>...</td>\n",
       "      <td>0.354773</td>\n",
       "      <td>0.319261</td>\n",
       "      <td>-0.471379</td>\n",
       "      <td>-0.075890</td>\n",
       "      <td>-0.667909</td>\n",
       "      <td>-0.642848</td>\n",
       "      <td>0.070600</td>\n",
       "      <td>0.488410</td>\n",
       "      <td>0.292345</td>\n",
       "      <td>1</td>\n",
       "    </tr>\n",
       "    <tr>\n",
       "      <th>239</th>\n",
       "      <td>-0.027947</td>\n",
       "      <td>-0.993104</td>\n",
       "      <td>1.171439</td>\n",
       "      <td>0.474974</td>\n",
       "      <td>0.011761</td>\n",
       "      <td>1.264303</td>\n",
       "      <td>0.116234</td>\n",
       "      <td>-0.865986</td>\n",
       "      <td>0.554393</td>\n",
       "      <td>-0.276375</td>\n",
       "      <td>...</td>\n",
       "      <td>-0.119439</td>\n",
       "      <td>0.070051</td>\n",
       "      <td>0.278843</td>\n",
       "      <td>-0.097491</td>\n",
       "      <td>0.426278</td>\n",
       "      <td>0.744938</td>\n",
       "      <td>-0.274728</td>\n",
       "      <td>0.008472</td>\n",
       "      <td>0.015492</td>\n",
       "      <td>0</td>\n",
       "    </tr>\n",
       "    <tr>\n",
       "      <th>239501</th>\n",
       "      <td>3.007895</td>\n",
       "      <td>0.768888</td>\n",
       "      <td>-6.682832</td>\n",
       "      <td>-2.714268</td>\n",
       "      <td>-5.774530</td>\n",
       "      <td>1.449792</td>\n",
       "      <td>-0.661836</td>\n",
       "      <td>-1.148650</td>\n",
       "      <td>0.849686</td>\n",
       "      <td>0.433427</td>\n",
       "      <td>...</td>\n",
       "      <td>-1.928527</td>\n",
       "      <td>0.220526</td>\n",
       "      <td>1.187013</td>\n",
       "      <td>0.335821</td>\n",
       "      <td>0.215683</td>\n",
       "      <td>0.803110</td>\n",
       "      <td>0.044033</td>\n",
       "      <td>-0.054988</td>\n",
       "      <td>0.082337</td>\n",
       "      <td>1</td>\n",
       "    </tr>\n",
       "    <tr>\n",
       "      <th>143336</th>\n",
       "      <td>3.226717</td>\n",
       "      <td>0.006967</td>\n",
       "      <td>-6.713407</td>\n",
       "      <td>3.921104</td>\n",
       "      <td>-9.746678</td>\n",
       "      <td>5.148263</td>\n",
       "      <td>-5.151563</td>\n",
       "      <td>-2.099389</td>\n",
       "      <td>-5.937767</td>\n",
       "      <td>3.578780</td>\n",
       "      <td>...</td>\n",
       "      <td>0.135711</td>\n",
       "      <td>0.954272</td>\n",
       "      <td>-0.451086</td>\n",
       "      <td>0.127214</td>\n",
       "      <td>-0.339450</td>\n",
       "      <td>0.394096</td>\n",
       "      <td>1.075295</td>\n",
       "      <td>1.649906</td>\n",
       "      <td>-0.394905</td>\n",
       "      <td>1</td>\n",
       "    </tr>\n",
       "  </tbody>\n",
       "</table>\n",
       "<p>5 rows × 31 columns</p>\n",
       "</div>"
      ],
      "text/plain": [
       "        scaled_amount  scaled_time        V1        V2        V3        V4  \\\n",
       "121         -0.179976    -0.994079 -0.427191  0.745708  1.761811 -0.165130   \n",
       "248296      -0.307413     0.812780 -0.613696  3.698772 -5.534941  5.620486   \n",
       "239         -0.027947    -0.993104  1.171439  0.474974  0.011761  1.264303   \n",
       "239501       3.007895     0.768888 -6.682832 -2.714268 -5.774530  1.449792   \n",
       "143336       3.226717     0.006967 -6.713407  3.921104 -9.746678  5.148263   \n",
       "\n",
       "              V5        V6        V7        V8  ...       V20       V21  \\\n",
       "121     0.058298 -0.213413  0.647323  0.073464  ...  0.052828 -0.201681   \n",
       "248296  1.649263 -2.335145 -0.907188  0.706362  ...  0.354773  0.319261   \n",
       "239     0.116234 -0.865986  0.554393 -0.276375  ... -0.119439  0.070051   \n",
       "239501 -0.661836 -1.148650  0.849686  0.433427  ... -1.928527  0.220526   \n",
       "143336 -5.151563 -2.099389 -5.937767  3.578780  ...  0.135711  0.954272   \n",
       "\n",
       "             V22       V23       V24       V25       V26       V27       V28  \\\n",
       "121    -0.432070  0.013164  0.161606 -0.401310  0.047423  0.102549 -0.116571   \n",
       "248296 -0.471379 -0.075890 -0.667909 -0.642848  0.070600  0.488410  0.292345   \n",
       "239     0.278843 -0.097491  0.426278  0.744938 -0.274728  0.008472  0.015492   \n",
       "239501  1.187013  0.335821  0.215683  0.803110  0.044033 -0.054988  0.082337   \n",
       "143336 -0.451086  0.127214 -0.339450  0.394096  1.075295  1.649906 -0.394905   \n",
       "\n",
       "        Class  \n",
       "121         0  \n",
       "248296      1  \n",
       "239         0  \n",
       "239501      1  \n",
       "143336      1  \n",
       "\n",
       "[5 rows x 31 columns]"
      ]
     },
     "execution_count": 24,
     "metadata": {},
     "output_type": "execute_result"
    }
   ],
   "source": [
    "# New dataframes for frauded and non-frauded transactions\n",
    "# We are already aware that there's 492 frauded transactions\n",
    "# Therefore, we've limited the non frauded transactions to 492 to prevent overfitting\n",
    "\n",
    "# Due to the reduced dataframe size, there is a risk of inaccuracy\n",
    "\n",
    "frauded_df = df.loc[df['Class'] == 1]\n",
    "non_frauded_df = df.loc[df['Class'] == 0][:492]\n",
    "\n",
    "balanced_df = pd.concat([frauded_df, non_frauded_df]) # Joining the two dataframes together\n",
    "\n",
    "# Sampling the dataset\n",
    "new_df = balanced_df.sample(frac=1, random_state=42)\n",
    "\n",
    "new_df.head()"
   ]
  },
  {
   "cell_type": "code",
   "execution_count": 25,
   "id": "ade99994",
   "metadata": {},
   "outputs": [
    {
     "name": "stdout",
     "output_type": "stream",
     "text": [
      "Non frauded cases:  50.0 % of the dataset.\n",
      "Frauded cases:  50.0 % of the dataset.\n"
     ]
    }
   ],
   "source": [
    "# Now the number of frauded and non-frauded cases are even\n",
    "# Though there's a risk of accuracy loss due to dataframe being diluted\n",
    "# 200,000+ --> 984\n",
    "\n",
    "print(\"Non frauded cases: \", round(new_df['Class'].value_counts()[0]/len(new_df) \n",
    "                                   * 100, 2), \"% of the dataset.\")\n",
    "\n",
    "print(\"Frauded cases: \", round(new_df['Class'].value_counts()[1]/len(new_df) \n",
    "                                   * 100, 2), \"% of the dataset.\")\n"
   ]
  },
  {
   "cell_type": "markdown",
   "id": "88f86e93",
   "metadata": {},
   "source": [
    "### We can now see that the dataset is now equal, though there is a huge loss in data which can affect accuracy "
   ]
  },
  {
   "cell_type": "markdown",
   "id": "ea224d49",
   "metadata": {},
   "source": [
    "## Checking the distribution of data in the new dataset (Undersampling)"
   ]
  },
  {
   "cell_type": "code",
   "execution_count": 26,
   "id": "366940e1",
   "metadata": {},
   "outputs": [],
   "source": [
    "from sklearn.decomposition import PCA # Dimensonality reduction\n",
    "from sklearn.manifold import TSNE # Dimensionality reduction"
   ]
  },
  {
   "cell_type": "code",
   "execution_count": 27,
   "id": "081b91a5",
   "metadata": {},
   "outputs": [
    {
     "data": {
      "text/plain": [
       "array([[ 29.375196 , -20.010551 ],\n",
       "       [-13.6016245, -15.1690645],\n",
       "       [ 21.371073 ,   0.8158514]], dtype=float32)"
      ]
     },
     "execution_count": 27,
     "metadata": {},
     "output_type": "execute_result"
    }
   ],
   "source": [
    "# For this instance, we will use T-SNE to reduce the dimensonality of the data and find the distributions in the datapoints\n",
    "\n",
    "m = TSNE(learning_rate=50)\n",
    "\n",
    "tsne_features = m.fit_transform(new_df)\n",
    "\n",
    "tsne_features[1:4,:]\n"
   ]
  },
  {
   "cell_type": "code",
   "execution_count": 28,
   "id": "918dde61",
   "metadata": {},
   "outputs": [],
   "source": [
    "new_df['x'] = tsne_features[:,0]\n",
    "new_df['y'] = tsne_features[:,1]"
   ]
  },
  {
   "cell_type": "code",
   "execution_count": 29,
   "id": "dba360d0",
   "metadata": {},
   "outputs": [
    {
     "name": "stdout",
     "output_type": "stream",
     "text": [
      "Time taken for T-SNE reduction 2.0 s\n"
     ]
    }
   ],
   "source": [
    "# T-SNE approach to random undersampled data\n",
    "\n",
    "t0 = time.time() \n",
    "TSNE_X = TSNE(n_components=2, random_state=42).fit_transform(new_df.values)\n",
    "t1 = time.time()\n",
    "print(\"Time taken for T-SNE reduction {:.2} s\".format(t1-t0))"
   ]
  },
  {
   "cell_type": "code",
   "execution_count": 30,
   "id": "6a561a3a",
   "metadata": {
    "scrolled": true
   },
   "outputs": [
    {
     "data": {
      "image/png": "[encoded data removed]",
      "text/plain": [
       "<Figure size 640x480 with 1 Axes>"
      ]
     },
     "metadata": {},
     "output_type": "display_data"
    }
   ],
   "source": [
    "plt.title(\"Clusters using dimensionality reduction (T-SNE)\")\n",
    "\n",
    "# T-SNE scatter plot\n",
    "sns.scatterplot(x=\"x\", y=\"y\", hue=\"Class\", data=new_df)\n",
    "plt.show()"
   ]
  },
  {
   "cell_type": "markdown",
   "id": "d68d5ee1",
   "metadata": {},
   "source": [
    "## Oversampling (SMOTE) "
   ]
  },
  {
   "cell_type": "code",
   "execution_count": 31,
   "id": "f64c2711",
   "metadata": {},
   "outputs": [],
   "source": [
    "from sklearn.linear_model import LogisticRegression # Alternative model\n",
    "from sklearn.neighbors import KNeighborsClassifier\n",
    "from sklearn.svm import SVC"
   ]
  },
  {
   "cell_type": "code",
   "execution_count": 32,
   "id": "6a7ee9cd",
   "metadata": {},
   "outputs": [],
   "source": [
    "from sklearn.model_selection import train_test_split # Seperating the training and testing process\n",
    "from imblearn.over_sampling import SMOTE # Handling imbalanced data within the dataset\n",
    "from sklearn.model_selection import cross_val_score # Seperating the training and testing process\n",
    "from sklearn.metrics import confusion_matrix, f1_score, classification_report, ConfusionMatrixDisplay\n",
    "from sklearn.model_selection import RandomizedSearchCV"
   ]
  },
  {
   "cell_type": "markdown",
   "id": "50bc5c2f",
   "metadata": {},
   "source": [
    "### Once imported all libraries for oversampling, proceed to the training section"
   ]
  },
  {
   "cell_type": "markdown",
   "id": "c9433bcd",
   "metadata": {},
   "source": [
    "# 3. Training "
   ]
  },
  {
   "cell_type": "markdown",
   "id": "6740b1b7",
   "metadata": {},
   "source": [
    "## Undersampled Training "
   ]
  },
  {
   "cell_type": "code",
   "execution_count": 35,
   "id": "eb15f799",
   "metadata": {},
   "outputs": [],
   "source": [
    "# Models for training\n",
    "from sklearn.ensemble import RandomForestClassifier # Will be used for the model\n",
    "from xgboost import XGBClassifier # Alternative gradient boosting model\n",
    "from sklearn.linear_model import LogisticRegression # Alternative model\n",
    "from sklearn.neighbors import KNeighborsClassifier\n",
    "from sklearn.svm import SVC"
   ]
  },
  {
   "cell_type": "code",
   "execution_count": 36,
   "id": "6d25c5ab",
   "metadata": {},
   "outputs": [],
   "source": [
    "# Prerequisite libraries for parameter tuning, checking progression of models etc.\n",
    "from sklearn.model_selection import learning_curve # For overfitting detection\n",
    "from sklearn.model_selection import train_test_split # Seperating the training and testing process\n",
    "from sklearn.model_selection import cross_val_score # For overfitting detection\n",
    "from sklearn.metrics import roc_auc_score\n",
    "from sklearn.metrics import confusion_matrix, f1_score, classification_report, ConfusionMatrixDisplay # For confusion metrics as we are dealing with binary classification ('1' and '0')\n",
    "from sklearn.model_selection import LearningCurveDisplay, ShuffleSplit # To check the learning progression of models overtime from training to testing\n",
    "from sklearn.naive_bayes import GaussianNB\n",
    "from sklearn.datasets import load_digits\n",
    "from sklearn.model_selection import GridSearchCV, RandomizedSearchCV # Hyperparameter tuning\n",
    "from scipy.stats import uniform\n",
    "from scipy.stats import randint"
   ]
  },
  {
   "cell_type": "code",
   "execution_count": 37,
   "id": "b2282480",
   "metadata": {},
   "outputs": [],
   "source": [
    "# Undersampled dataset split\n",
    "y_undersampled = new_df['Class']  # Target predictor to determine frauded transactions\n",
    "X_undersampled = new_df.drop(columns=['Class'])  # Dropping the target predictor column\n",
    "\n",
    "# Test-train split for undersampled data\n",
    "X_train_under, X_valid_under, y_train_under, y_valid_under = train_test_split(X_undersampled, y_undersampled, test_size=0.2, random_state=42)"
   ]
  },
  {
   "cell_type": "markdown",
   "id": "53d9fb6f",
   "metadata": {},
   "source": [
    "### Defining Classifiers "
   ]
  },
  {
   "cell_type": "code",
   "execution_count": 38,
   "id": "7c5a2804",
   "metadata": {},
   "outputs": [],
   "source": [
    "undersampled_classifiers = {\n",
    "    \"LogisticRegression\": LogisticRegression(),\n",
    "    \"KNearest\": KNeighborsClassifier(),\n",
    "    \"SVC\": SVC()\n",
    "}"
   ]
  },
  {
   "cell_type": "markdown",
   "id": "9bf22ecc",
   "metadata": {},
   "source": [
    "### Cross-validation through each of the items to get best scores "
   ]
  },
  {
   "cell_type": "code",
   "execution_count": 39,
   "id": "ffc76ace",
   "metadata": {
    "scrolled": true
   },
   "outputs": [
    {
     "name": "stderr",
     "output_type": "stream",
     "text": [
      "C:\\Users\\Khalid\\anaconda3\\Lib\\site-packages\\sklearn\\linear_model\\_logistic.py:458: ConvergenceWarning: lbfgs failed to converge (status=1):\n",
      "STOP: TOTAL NO. of ITERATIONS REACHED LIMIT.\n",
      "\n",
      "Increase the number of iterations (max_iter) or scale the data as shown in:\n",
      "    https://scikit-learn.org/stable/modules/preprocessing.html\n",
      "Please also refer to the documentation for alternative solver options:\n",
      "    https://scikit-learn.org/stable/modules/linear_model.html#logistic-regression\n",
      "  n_iter_i = _check_optimize_result(\n",
      "C:\\Users\\Khalid\\anaconda3\\Lib\\site-packages\\sklearn\\linear_model\\_logistic.py:458: ConvergenceWarning: lbfgs failed to converge (status=1):\n",
      "STOP: TOTAL NO. of ITERATIONS REACHED LIMIT.\n",
      "\n",
      "Increase the number of iterations (max_iter) or scale the data as shown in:\n",
      "    https://scikit-learn.org/stable/modules/preprocessing.html\n",
      "Please also refer to the documentation for alternative solver options:\n",
      "    https://scikit-learn.org/stable/modules/linear_model.html#logistic-regression\n",
      "  n_iter_i = _check_optimize_result(\n",
      "C:\\Users\\Khalid\\anaconda3\\Lib\\site-packages\\sklearn\\linear_model\\_logistic.py:458: ConvergenceWarning: lbfgs failed to converge (status=1):\n",
      "STOP: TOTAL NO. of ITERATIONS REACHED LIMIT.\n",
      "\n",
      "Increase the number of iterations (max_iter) or scale the data as shown in:\n",
      "    https://scikit-learn.org/stable/modules/preprocessing.html\n",
      "Please also refer to the documentation for alternative solver options:\n",
      "    https://scikit-learn.org/stable/modules/linear_model.html#logistic-regression\n",
      "  n_iter_i = _check_optimize_result(\n",
      "C:\\Users\\Khalid\\anaconda3\\Lib\\site-packages\\sklearn\\linear_model\\_logistic.py:458: ConvergenceWarning: lbfgs failed to converge (status=1):\n",
      "STOP: TOTAL NO. of ITERATIONS REACHED LIMIT.\n",
      "\n",
      "Increase the number of iterations (max_iter) or scale the data as shown in:\n",
      "    https://scikit-learn.org/stable/modules/preprocessing.html\n",
      "Please also refer to the documentation for alternative solver options:\n",
      "    https://scikit-learn.org/stable/modules/linear_model.html#logistic-regression\n",
      "  n_iter_i = _check_optimize_result(\n",
      "C:\\Users\\Khalid\\anaconda3\\Lib\\site-packages\\sklearn\\linear_model\\_logistic.py:458: ConvergenceWarning: lbfgs failed to converge (status=1):\n",
      "STOP: TOTAL NO. of ITERATIONS REACHED LIMIT.\n",
      "\n",
      "Increase the number of iterations (max_iter) or scale the data as shown in:\n",
      "    https://scikit-learn.org/stable/modules/preprocessing.html\n",
      "Please also refer to the documentation for alternative solver options:\n",
      "    https://scikit-learn.org/stable/modules/linear_model.html#logistic-regression\n",
      "  n_iter_i = _check_optimize_result(\n",
      "C:\\Users\\Khalid\\anaconda3\\Lib\\site-packages\\sklearn\\linear_model\\_logistic.py:458: ConvergenceWarning: lbfgs failed to converge (status=1):\n",
      "STOP: TOTAL NO. of ITERATIONS REACHED LIMIT.\n",
      "\n",
      "Increase the number of iterations (max_iter) or scale the data as shown in:\n",
      "    https://scikit-learn.org/stable/modules/preprocessing.html\n",
      "Please also refer to the documentation for alternative solver options:\n",
      "    https://scikit-learn.org/stable/modules/linear_model.html#logistic-regression\n",
      "  n_iter_i = _check_optimize_result(\n"
     ]
    },
    {
     "name": "stdout",
     "output_type": "stream",
     "text": [
      "Classifiers:  LogisticRegression Has a training score of 98.0 % accuracy score (not tuned)\n",
      "Classifiers:  KNeighborsClassifier Has a training score of 95.0 % accuracy score (not tuned)\n",
      "Classifiers:  SVC Has a training score of 93.0 % accuracy score (not tuned)\n"
     ]
    }
   ],
   "source": [
    "# Looping through the list utilizing cross validation medium to get best scores best on train test split (without tuning)\n",
    "for key, undersampled_classifiers in undersampled_classifiers.items():\n",
    "    undersampled_classifiers.fit(X_train_under, y_train_under)\n",
    "    training_score = cross_val_score(undersampled_classifiers, X_train_under, y_train_under, cv=5)\n",
    "    print(\"Classifiers: \", undersampled_classifiers.__class__.__name__, \"Has a training score of\", round(training_score.mean(), 2) * 100, \"% accuracy score (not tuned)\")"
   ]
  },
  {
   "cell_type": "markdown",
   "id": "8d75098b",
   "metadata": {},
   "source": [
    "## Hyperparameter tuning"
   ]
  },
  {
   "cell_type": "markdown",
   "id": "a4831fc4",
   "metadata": {},
   "source": [
    "### RandomizedSearchCV to find alternative ideal parameters "
   ]
  },
  {
   "cell_type": "code",
   "execution_count": 40,
   "id": "1019c358",
   "metadata": {
    "scrolled": true
   },
   "outputs": [
    {
     "name": "stderr",
     "output_type": "stream",
     "text": [
      "C:\\Users\\Khalid\\anaconda3\\Lib\\site-packages\\sklearn\\model_selection\\_validation.py:378: FitFailedWarning: \n",
      "30 fits failed out of a total of 50.\n",
      "The score on these train-test partitions for these parameters will be set to nan.\n",
      "If these failures are not expected, you can try to debug them by setting error_score='raise'.\n",
      "\n",
      "Below are more details about the failures:\n",
      "--------------------------------------------------------------------------------\n",
      "30 fits failed with the following error:\n",
      "Traceback (most recent call last):\n",
      "  File \"C:\\Users\\Khalid\\anaconda3\\Lib\\site-packages\\sklearn\\model_selection\\_validation.py\", line 686, in _fit_and_score\n",
      "    estimator.fit(X_train, y_train, **fit_params)\n",
      "  File \"C:\\Users\\Khalid\\anaconda3\\Lib\\site-packages\\sklearn\\linear_model\\_logistic.py\", line 1162, in fit\n",
      "    solver = _check_solver(self.solver, self.penalty, self.dual)\n",
      "             ^^^^^^^^^^^^^^^^^^^^^^^^^^^^^^^^^^^^^^^^^^^^^^^^^^^\n",
      "  File \"C:\\Users\\Khalid\\anaconda3\\Lib\\site-packages\\sklearn\\linear_model\\_logistic.py\", line 54, in _check_solver\n",
      "    raise ValueError(\n",
      "ValueError: Solver lbfgs supports only 'l2' or 'none' penalties, got l1 penalty.\n",
      "\n",
      "  warnings.warn(some_fits_failed_message, FitFailedWarning)\n",
      "C:\\Users\\Khalid\\anaconda3\\Lib\\site-packages\\sklearn\\model_selection\\_search.py:952: UserWarning: One or more of the test scores are non-finite: [       nan        nan        nan 0.98982504        nan 0.9619205\n",
      " 0.98982504        nan 0.97840845        nan]\n",
      "  warnings.warn(\n"
     ]
    },
    {
     "name": "stdout",
     "output_type": "stream",
     "text": [
      "Best parameters: {'penalty': 'l2', 'C': 10.0}\n",
      "Best parameters: {'algorithm': 'ball_tree', 'leaf_size': 42, 'n_neighbors': 4, 'p': 2, 'weights': 'distance'}\n",
      "Best parameters: {'kernel': 'linear', 'C': 0.5}\n"
     ]
    }
   ],
   "source": [
    "# Logistic regression \n",
    "\n",
    "log_param_grid = {\"C\": np.logspace(-3,3,7), \"penalty\":[\"l1\", \"l2\"]} # Parameter grid\n",
    "\n",
    "log_param_reg = RandomizedSearchCV(LogisticRegression(max_iter=1000), \n",
    "                                  log_param_grid)\n",
    "\n",
    "log_param_reg.fit(X_train_under, y_train_under)\n",
    "\n",
    "print(f\"Best parameters: {log_param_reg.best_params_}\")\n",
    "\n",
    "random_log_model = log_param_reg.best_estimator_\n",
    "\n",
    "best_log_params_random = log_param_reg.best_params_ # Extract the best parameters\n",
    "\n",
    "# K-nearest neighbours \n",
    "\n",
    "knearest_param_grid = {'n_neighbors': randint(1, 30),\n",
    "                      'weights': ['uniform', 'distance'],\n",
    "                      'algorithm': ['auto', 'ball_tree', 'kd_tree', 'brute'],\n",
    "                      'leaf_size': randint(20, 50),\n",
    "                      'p': [1, 2]\n",
    "                      } # Parameter grid\n",
    "\n",
    "knearest_param_reg = RandomizedSearchCV(KNeighborsClassifier(), knearest_param_grid)\n",
    "\n",
    "knearest_param_reg.fit(X_train_under, y_train_under)\n",
    "\n",
    "print(f\"Best parameters: {knearest_param_reg.best_params_}\")\n",
    "\n",
    "random_k_nearest_model = knearest_param_reg.best_estimator_\n",
    "\n",
    "best_k_nearest_params_random = knearest_param_reg.best_params_ # Extract the best parameters\n",
    "\n",
    "\n",
    "# SVC\n",
    "\n",
    "svc_param_grid = {'C': [0.1, 0.3, 0.5, 0.7, 0.9, 1], 'kernel': ['rbf', 'poly', 'sigmoid', 'linear']} # Parameter grid\n",
    "\n",
    "svc_param_reg = RandomizedSearchCV(SVC(), svc_param_grid, cv=5, random_state=42)\n",
    "\n",
    "svc_param_reg.fit(X_train_under, y_train_under)\n",
    "\n",
    "print(f\"Best parameters: {svc_param_reg.best_params_}\")\n",
    "\n",
    "random_svc_model = svc_param_reg.best_estimator_\n",
    "\n",
    "best_svc_params_random = svc_param_reg.best_params_ # Extract the best parameters\n"
   ]
  },
  {
   "cell_type": "markdown",
   "id": "44d8874b",
   "metadata": {},
   "source": [
    "### Hyperparameter tuning with GridSearchCV (Undersampling)"
   ]
  },
  {
   "cell_type": "code",
   "execution_count": 41,
   "id": "9ba4e9f5",
   "metadata": {
    "scrolled": true
   },
   "outputs": [
    {
     "name": "stdout",
     "output_type": "stream",
     "text": [
      "Best parameters (Logistic Regression Model):  {'C': 10.0, 'penalty': 'l2'}\n",
      "Best parameters (K-Nearest Neigbours):  {'algorithm': 'auto', 'n_neighbors': 4, 'weights': 'distance'}\n",
      "Best parameters (SVC):  {'C': 2.5, 'kernel': 'linear'}\n"
     ]
    },
    {
     "name": "stderr",
     "output_type": "stream",
     "text": [
      "C:\\Users\\Khalid\\anaconda3\\Lib\\site-packages\\sklearn\\model_selection\\_validation.py:378: FitFailedWarning: \n",
      "20 fits failed out of a total of 60.\n",
      "The score on these train-test partitions for these parameters will be set to nan.\n",
      "If these failures are not expected, you can try to debug them by setting error_score='raise'.\n",
      "\n",
      "Below are more details about the failures:\n",
      "--------------------------------------------------------------------------------\n",
      "20 fits failed with the following error:\n",
      "Traceback (most recent call last):\n",
      "  File \"C:\\Users\\Khalid\\anaconda3\\Lib\\site-packages\\sklearn\\model_selection\\_validation.py\", line 686, in _fit_and_score\n",
      "    estimator.fit(X_train, y_train, **fit_params)\n",
      "  File \"C:\\Users\\Khalid\\anaconda3\\Lib\\site-packages\\sklearn\\svm\\_base.py\", line 180, in fit\n",
      "    self._validate_params()\n",
      "  File \"C:\\Users\\Khalid\\anaconda3\\Lib\\site-packages\\sklearn\\base.py\", line 600, in _validate_params\n",
      "    validate_parameter_constraints(\n",
      "  File \"C:\\Users\\Khalid\\anaconda3\\Lib\\site-packages\\sklearn\\utils\\_param_validation.py\", line 97, in validate_parameter_constraints\n",
      "    raise InvalidParameterError(\n",
      "sklearn.utils._param_validation.InvalidParameterError: The 'C' parameter of SVC must be a float in the range (0.0, inf). Got -1.5 instead.\n",
      "\n",
      "  warnings.warn(some_fits_failed_message, FitFailedWarning)\n",
      "C:\\Users\\Khalid\\anaconda3\\Lib\\site-packages\\sklearn\\model_selection\\_search.py:952: UserWarning: One or more of the test scores are non-finite: [       nan        nan        nan        nan 0.92758204 0.9110699\n",
      " 0.89710554 0.98982504 0.93647505 0.92630815 0.9059663  0.9898331 ]\n",
      "  warnings.warn(\n"
     ]
    }
   ],
   "source": [
    "# Defining all models and parameter grids to find best parameter (hyperparametertuning)\n",
    "\n",
    "# Logistic Regression Model\n",
    "\n",
    "log_param_grid = {\n",
    "    'C': [best_log_params_random['C']/2, best_log_params_random['C'], best_log_params_random['C']*2],\n",
    "    'penalty': [best_log_params_random['penalty']]\n",
    "}\n",
    "\n",
    "grid_log_reg = GridSearchCV(estimator=LogisticRegression(solver='liblinear'), param_grid=log_param_grid, cv=5)\n",
    "\n",
    "grid_log_reg.fit(X_train_under, y_train_under)\n",
    "\n",
    "best_log_model = grid_log_reg.best_estimator_ # Retrieve the best tuned model for logistic regression\n",
    "\n",
    "\n",
    "# K-nearest neighbors model\n",
    "\n",
    "knearest_params = {\n",
    "    'n_neighbors': [best_k_nearest_params_random['n_neighbors']-2, \n",
    "                   best_k_nearest_params_random['n_neighbors'],\n",
    "                   best_k_nearest_params_random['n_neighbors']+2],\n",
    "    'weights': [best_k_nearest_params_random['weights']],\n",
    "    'algorithm': ['auto', 'ball_tree', 'kd_tree', 'brute']\n",
    "}\n",
    "\n",
    "knearest_reg = GridSearchCV(estimator=KNeighborsClassifier(), param_grid=knearest_params)\n",
    "\n",
    "knearest_reg.fit(X_train_under, y_train_under)\n",
    "\n",
    "best_k_nearest_model = knearest_reg.best_estimator_\n",
    "\n",
    "# SVC model\n",
    "\n",
    "svc_param_grid = {\n",
    "    'C': [best_svc_params_random['C']-2,\n",
    "         best_svc_params_random['C'],\n",
    "         best_svc_params_random['C']+2,],\n",
    "    'kernel': ['rbf', 'poly', 'sigmoid', 'linear']       \n",
    "}\n",
    "\n",
    "grid_svc = GridSearchCV(SVC(), svc_param_grid)\n",
    "\n",
    "grid_svc.fit(X_train_under, y_train_under)\n",
    "\n",
    "best_svc_model = knearest_reg.best_estimator_\n",
    "\n",
    "print(\"Best parameters (Logistic Regression Model): \", grid_log_reg.best_params_)\n",
    "print(\"Best parameters (K-Nearest Neigbours): \", knearest_reg.best_params_)\n",
    "print(\"Best parameters (SVC): \", grid_svc.best_params_)\n"
   ]
  },
  {
   "cell_type": "markdown",
   "id": "63fa7f81",
   "metadata": {},
   "source": [
    "### Cross-validation after further refining with RandomizedSearchCV and GridSearchCV (Undersampling)"
   ]
  },
  {
   "cell_type": "code",
   "execution_count": 42,
   "id": "e22d6fa1",
   "metadata": {},
   "outputs": [
    {
     "name": "stdout",
     "output_type": "stream",
     "text": [
      "Logistic Regression Cross-Validation score:  98.86 %\n",
      "K-Nearest Neighbours Cross-Validation score:  95.3 %\n",
      "SVC Cross-Validation score:  95.3 %\n"
     ]
    }
   ],
   "source": [
    "log_reg_score = cross_val_score(best_log_model, X_train_under, y_train_under, cv=5)\n",
    "\n",
    "print(\"Logistic Regression Cross-Validation score: \", round(log_reg_score.mean() * 100, 2), \"%\")\n",
    "\n",
    "knearest_reg_score = cross_val_score(best_k_nearest_model, X_train_under, y_train_under, cv=5)\n",
    "\n",
    "print(\"K-Nearest Neighbours Cross-Validation score: \", round(knearest_reg_score.mean() * 100, 2), \"%\")\n",
    "\n",
    "svc_reg_score = cross_val_score(best_svc_model, X_train_under, y_train_under, cv=5)\n",
    "\n",
    "print(\"SVC Cross-Validation score: \", round(svc_reg_score.mean() * 100, 2), \"%\")\n"
   ]
  },
  {
   "cell_type": "markdown",
   "id": "e6497c54",
   "metadata": {},
   "source": [
    "### Cross-validation with only RandomizedSearchCV (Undersampling) "
   ]
  },
  {
   "cell_type": "code",
   "execution_count": 43,
   "id": "4b862bc3",
   "metadata": {},
   "outputs": [
    {
     "name": "stdout",
     "output_type": "stream",
     "text": [
      "Logistic Regression Cross-Validation score:  98.98 %\n",
      "K-Nearest Neighbours Cross-Validation score:  95.3 %\n",
      "SVC Cross-Validation score:  98.98 %\n"
     ]
    }
   ],
   "source": [
    "random_log_score = cross_val_score(random_log_model, X_train_under, y_train_under, cv=5)\n",
    "\n",
    "print(\"Logistic Regression Cross-Validation score: \", round(random_log_score.mean() * 100, 2), \"%\")\n",
    "\n",
    "random_knearest_score = cross_val_score(random_k_nearest_model, X_train_under, y_train_under, cv=5)\n",
    "\n",
    "print(\"K-Nearest Neighbours Cross-Validation score: \", round(random_knearest_score.mean() * 100, 2), \"%\")\n",
    "\n",
    "random_svc_score = cross_val_score(random_svc_model, X_train_under, y_train_under, cv=5)\n",
    "\n",
    "print(\"SVC Cross-Validation score: \", round(random_svc_score.mean() * 100, 2), \"%\")"
   ]
  },
  {
   "cell_type": "markdown",
   "id": "25f523b8",
   "metadata": {},
   "source": [
    "### The RandomizedSearchCV has performed better than the GridSearchCV within the training data, which could imply overfitting. This will be checked fully in the testing section."
   ]
  },
  {
   "cell_type": "code",
   "execution_count": 44,
   "id": "f1b239af",
   "metadata": {},
   "outputs": [],
   "source": [
    "# Learning curve for all undersampled models"
   ]
  },
  {
   "cell_type": "markdown",
   "id": "947d9b90",
   "metadata": {},
   "source": [
    "## Oversampled Training"
   ]
  },
  {
   "cell_type": "code",
   "execution_count": 63,
   "id": "6478a82f",
   "metadata": {},
   "outputs": [],
   "source": [
    "from sklearn.pipeline import Pipeline # Pipelining for models\n",
    "from imblearn.pipeline import make_pipeline\n",
    "from scipy.stats import randint # For parameter grid number generation\n",
    "from imblearn.pipeline import make_pipeline as imbalanced_make_pipeline # For imbalanced dataset handling\n",
    "from sklearn.model_selection import StratifiedShuffleSplit # For pipeline to assist with splitting and stratifying each class on training and testing to original data"
   ]
  },
  {
   "cell_type": "code",
   "execution_count": 64,
   "id": "09bd38fc",
   "metadata": {},
   "outputs": [],
   "source": [
    "# Define classifiers\n",
    "oversampled_classifiers = {\n",
    "    \"Logistic Regression\": LogisticRegression(max_iter=1000, random_state=42),\n",
    "}\n"
   ]
  },
  {
   "cell_type": "code",
   "execution_count": 65,
   "id": "f3ae324b",
   "metadata": {},
   "outputs": [],
   "source": [
    "# Preset target column and drop the target column\n",
    "y_oversampled = df['Class']\n",
    "X_oversampled = df.drop('Class', axis=1)\n",
    "\n",
    "# Test-train split for oversampled data\n",
    "X_train_over, X_valid_over, y_train_over, y_valid_over = train_test_split(X_oversampled, y_oversampled, test_size=0.2, random_state=42)"
   ]
  },
  {
   "cell_type": "raw",
   "id": "fa6021cb",
   "metadata": {},
   "source": [
    "# Applying SMOTE to the training data \n",
    "\n",
    "sm = SMOTE(random_state=42, sampling_strategy='minority', k_neighbors = 5) # Defining SMOTE and targeting the minority class (in this case, the fraud transactions)\n",
    "\n",
    "y = df['Class'] # Preset target column\n",
    "X = df.drop('Class', axis=1) # Drop the target column\n",
    "\n",
    "X_train_res, y_train_res = sm.fit_resample(X_train, y_train) # Resampling the data with synthetic data   \n"
   ]
  },
  {
   "cell_type": "code",
   "execution_count": 66,
   "id": "8afe8806",
   "metadata": {},
   "outputs": [
    {
     "name": "stdout",
     "output_type": "stream",
     "text": [
      "Length of X (train) 227845 | Length of y (train): 56962\n",
      "Length of X (test) 227845 | Length of y (test): 56962\n"
     ]
    }
   ],
   "source": [
    "# Checking the length of training and testing data\n",
    "\n",
    "print('Length of X (train) {} | Length of y (train): {}'.format(len(X_train_over), \n",
    "                                                            len(y_valid_over)))\n",
    "\n",
    "print('Length of X (test) {} | Length of y (test): {}'.format(len(X_train_over), \n",
    "                                                            len(y_valid_over)))"
   ]
  },
  {
   "cell_type": "markdown",
   "id": "385b3194",
   "metadata": {},
   "source": [
    "## Hyperparameter Tuning (Oversampling Approach)"
   ]
  },
  {
   "cell_type": "markdown",
   "id": "026048fd",
   "metadata": {},
   "source": [
    "### Cross-validation + oversampling"
   ]
  },
  {
   "cell_type": "code",
   "execution_count": 67,
   "id": "9b10cc4b",
   "metadata": {},
   "outputs": [
    {
     "name": "stdout",
     "output_type": "stream",
     "text": [
      "Fold F1 Score: 0.1258\n",
      "Fold F1 Score: 0.1274\n",
      "Fold F1 Score: 0.1242\n",
      "Fold F1 Score: 0.1325\n",
      "Fold F1 Score: 0.1320\n",
      "Mean F1 Score: 0.1284\n",
      "\n",
      "Best parameters for Logistic Regression: {'logisticregression__C': 0.001, 'logisticregression__penalty': 'l1'}\n",
      "\n",
      "Validation F1 Score: 0.1308\n"
     ]
    }
   ],
   "source": [
    "# Define the parameter grid for logistic regression\n",
    "log_param_grid = {\n",
    "    'logisticregression__C': [0.001, 0.01, 0.1, 1, 10, 100, 1000],\n",
    "    'logisticregression__penalty': ['l1', 'l2']\n",
    "}\n",
    "\n",
    "# Stratified ShuffleSplit\n",
    "sss = StratifiedShuffleSplit(n_splits=5, test_size=0.2, random_state=42)\n",
    "\n",
    "f1_scores = []\n",
    "\n",
    "# Use StratifiedShuffleSplit to avoid data leakage\n",
    "for train_index, test_index in sss.split(X_train_over, y_train_over):\n",
    "    # Create the pipeline with SMOTE and logistic regression\n",
    "    pipeline = imbalanced_make_pipeline(SMOTE(sampling_strategy='minority', random_state=42),\n",
    "                                        LogisticRegression(class_weight='balanced', solver='liblinear', max_iter=1000))\n",
    "\n",
    "    # Apply GridSearchCV within the pipeline\n",
    "    grid_log_reg = GridSearchCV(pipeline, param_grid=log_param_grid, cv=5, scoring='f1', n_jobs=-1)\n",
    "\n",
    "    # Fit the model with training data from the current fold\n",
    "    grid_log_reg.fit(X_train_over.iloc[train_index], y_train_over.iloc[train_index])\n",
    "\n",
    "    # Make predictions on the test data from the current fold\n",
    "    y_pred_over = grid_log_reg.predict(X_train_over.iloc[test_index])\n",
    "\n",
    "    # Calculate the F1 score for the current fold\n",
    "    f1 = f1_score(y_train_over.iloc[test_index], y_pred_over)\n",
    "    f1_scores.append(f1)\n",
    "    print(f'Fold F1 Score: {f1:.4f}')\n",
    "\n",
    "print(f'Mean F1 Score: {np.mean(f1_scores):.4f}')\n",
    "\n",
    "# Print best parameters using best_estimator_\n",
    "print(f\"\\nBest parameters for Logistic Regression: {grid_log_reg.best_params_}\")\n",
    "\n",
    "# Validate on the entire validation set\n",
    "best_model = grid_log_reg.best_estimator_\n",
    "best_model.fit(X_train_over, y_train_over)\n",
    "y_valid_pred_over = best_model.predict(X_valid_over)\n",
    "validation_f1 = f1_score(y_valid_over, y_valid_pred_over)\n",
    "\n",
    "print(f'\\nValidation F1 Score: {validation_f1:.4f}')"
   ]
  },
  {
   "cell_type": "raw",
   "id": "10feab38",
   "metadata": {},
   "source": [
    "from imblearn.over_sampling import SMOTE\n",
    "\n",
    "# SMOTE Technique (OverSampling) After splitting and Cross Validating\n",
    "sm = SMOTE(sampling_strategy='minority', random_state=42)\n",
    "\n",
    "# This will be the data we are going to use for training\n",
    "Xsm_train, ysm_train = sm.fit_resample(X_train, y_train)"
   ]
  },
  {
   "cell_type": "markdown",
   "id": "3504659b",
   "metadata": {},
   "source": [
    "# 4. Testing "
   ]
  },
  {
   "cell_type": "markdown",
   "id": "7c110733",
   "metadata": {},
   "source": [
    "## Undersampled Models"
   ]
  },
  {
   "cell_type": "markdown",
   "id": "28d7fbfe",
   "metadata": {},
   "source": [
    "### Logistic Regression Model (RandomSearchCV)"
   ]
  },
  {
   "cell_type": "code",
   "execution_count": 55,
   "id": "27f83aa5",
   "metadata": {
    "scrolled": false
   },
   "outputs": [
    {
     "name": "stdout",
     "output_type": "stream",
     "text": [
      "              precision    recall  f1-score   support\n",
      "\n",
      "           0       0.99      0.99      0.99        87\n",
      "           1       0.99      0.99      0.99       110\n",
      "\n",
      "    accuracy                           0.99       197\n",
      "   macro avg       0.99      0.99      0.99       197\n",
      "weighted avg       0.99      0.99      0.99       197\n",
      "\n",
      "0.9897074190177639\n"
     ]
    },
    {
     "data": {
      "image/png": "[encoded data removed]",
      "text/plain": [
       "<Figure size 640x480 with 2 Axes>"
      ]
     },
     "metadata": {},
     "output_type": "display_data"
    }
   ],
   "source": [
    "random_log_model.fit(X_train_under, y_train_under) # Fitting the model\n",
    "\n",
    "# Making predictions\n",
    "random_log_pred = random_log_model.predict(X_valid_under)\n",
    "\n",
    "\n",
    "# Unbalanced datasets cannot use typical 'MAE, MSE' metrics for accuracy, therefore we use confusion matrixes\n",
    "print(classification_report(y_valid_under, random_log_pred))\n",
    "print(roc_auc_score(y_valid_under, random_log_pred))\n",
    "\n",
    "undersampled_lr_random_cm = confusion_matrix(y_valid_under, random_log_pred, labels=random_log_model.classes_)\n",
    "undersampled_lr_random_disp = ConfusionMatrixDisplay(confusion_matrix=undersampled_lr_random_cm,\n",
    "                                             display_labels=random_log_model.classes_)\n",
    "\n",
    "undersampled_lr_random_disp.plot()\n",
    "\n",
    "plt.show() # Display the confusion matrix plot"
   ]
  },
  {
   "cell_type": "markdown",
   "id": "dd9cde64",
   "metadata": {},
   "source": [
    "### Logistic Regression Model (GridSearchCV)"
   ]
  },
  {
   "cell_type": "code",
   "execution_count": 57,
   "id": "6c6cfb8c",
   "metadata": {
    "scrolled": false
   },
   "outputs": [
    {
     "name": "stdout",
     "output_type": "stream",
     "text": [
      "              precision    recall  f1-score   support\n",
      "\n",
      "           0       0.99      0.98      0.98        87\n",
      "           1       0.98      0.99      0.99       110\n",
      "\n",
      "    accuracy                           0.98       197\n",
      "   macro avg       0.99      0.98      0.98       197\n",
      "weighted avg       0.98      0.98      0.98       197\n",
      "\n",
      "0.9839602925809823\n"
     ]
    },
    {
     "data": {
      "image/png": "[encoded data removed]",
      "text/plain": [
       "<Figure size 640x480 with 2 Axes>"
      ]
     },
     "metadata": {},
     "output_type": "display_data"
    }
   ],
   "source": [
    "best_log_model.fit(X_train_under, y_train_under) # Fitting the model\n",
    "\n",
    "# Making predictions\n",
    "grid_log_pred = best_log_model.predict(X_valid_under)\n",
    "\n",
    "\n",
    "# Unbalanced datasets cannot use typical 'MAE, MSE' metrics for accuracy, therefore we use confusion matrixes\n",
    "print(classification_report(y_valid_under, grid_log_pred))\n",
    "print(roc_auc_score(y_valid_under, grid_log_pred))\n",
    "\n",
    "undersampled_lr_grid_cm = confusion_matrix(y_valid_under, grid_log_pred, labels=best_log_model.classes_)\n",
    "undersampled_lr_grid_disp = ConfusionMatrixDisplay(confusion_matrix=undersampled_lr_grid_cm,\n",
    "                                             display_labels=best_log_model.classes_)\n",
    "\n",
    "undersampled_lr_grid_disp.plot()\n",
    "\n",
    "plt.show() # Display the confusion matrix plot"
   ]
  },
  {
   "cell_type": "markdown",
   "id": "f2b82dd5",
   "metadata": {},
   "source": [
    "### K-Nearest Classifier (RandomSearchCV)"
   ]
  },
  {
   "cell_type": "code",
   "execution_count": 58,
   "id": "3120946f",
   "metadata": {
    "scrolled": false
   },
   "outputs": [
    {
     "name": "stdout",
     "output_type": "stream",
     "text": [
      "              precision    recall  f1-score   support\n",
      "\n",
      "           0       0.90      0.99      0.94        87\n",
      "           1       0.99      0.91      0.95       110\n",
      "\n",
      "    accuracy                           0.94       197\n",
      "   macro avg       0.94      0.95      0.94       197\n",
      "weighted avg       0.95      0.94      0.94       197\n",
      "\n",
      "0.9487983281086729\n"
     ]
    },
    {
     "data": {
      "image/png": "[encoded data removed]",
      "text/plain": [
       "<Figure size 640x480 with 2 Axes>"
      ]
     },
     "metadata": {},
     "output_type": "display_data"
    }
   ],
   "source": [
    "random_k_nearest_model.fit(X_train_under, y_train_under) # Fitting the model\n",
    "\n",
    "# Making predictions\n",
    "random_k_nearest_pred = random_k_nearest_model.predict(X_valid_under)\n",
    "\n",
    "\n",
    "# Unbalanced datasets cannot use typical 'MAE, MSE' metrics for accuracy, therefore we use confusion matrixes\n",
    "print(classification_report(y_valid_under, random_k_nearest_pred))\n",
    "print(roc_auc_score(y_valid_under, random_k_nearest_pred))\n",
    "\n",
    "undersampled_k_nearest_random_cm = confusion_matrix(y_valid_under, random_k_nearest_pred, labels=random_k_nearest_model.classes_)\n",
    "undersampled_k_nearest_random_disp = ConfusionMatrixDisplay(confusion_matrix=undersampled_k_nearest_random_cm,\n",
    "                                                           display_labels=random_k_nearest_model.classes_)\n",
    "\n",
    "undersampled_k_nearest_random_disp.plot()\n",
    "\n",
    "plt.show() # Display the confusion matrix plot\n"
   ]
  },
  {
   "cell_type": "markdown",
   "id": "7f97e367",
   "metadata": {},
   "source": [
    "### K-Nearest Classifier (GridSearchCV) "
   ]
  },
  {
   "cell_type": "code",
   "execution_count": 59,
   "id": "ed3fa15c",
   "metadata": {
    "scrolled": false
   },
   "outputs": [
    {
     "name": "stdout",
     "output_type": "stream",
     "text": [
      "              precision    recall  f1-score   support\n",
      "\n",
      "           0       0.90      0.99      0.94        87\n",
      "           1       0.99      0.91      0.95       110\n",
      "\n",
      "    accuracy                           0.94       197\n",
      "   macro avg       0.94      0.95      0.94       197\n",
      "weighted avg       0.95      0.94      0.94       197\n",
      "\n",
      "0.9487983281086729\n"
     ]
    },
    {
     "data": {
      "image/png": "[encoded data removed]",
      "text/plain": [
       "<Figure size 640x480 with 2 Axes>"
      ]
     },
     "metadata": {},
     "output_type": "display_data"
    }
   ],
   "source": [
    "best_k_nearest_model.fit(X_train_under, y_train_under) # Fitting the model\n",
    "\n",
    "# Making predictions\n",
    "grid_k_nearest_pred = best_k_nearest_model.predict(X_valid_under)\n",
    "\n",
    "\n",
    "# Unbalanced datasets cannot use typical 'MAE, MSE' metrics for accuracy, therefore we use confusion matrixes\n",
    "print(classification_report(y_valid_under, grid_k_nearest_pred))\n",
    "print(roc_auc_score(y_valid_under, grid_k_nearest_pred))\n",
    "\n",
    "undersampled_k_nearest_grid_cm = confusion_matrix(y_valid_under, grid_k_nearest_pred, labels=best_k_nearest_model.classes_)\n",
    "undersampled_k_nearest_grid_disp = ConfusionMatrixDisplay(confusion_matrix=undersampled_k_nearest_grid_cm, \n",
    "                                                         display_labels=best_k_nearest_model.classes_)\n",
    "\n",
    "undersampled_k_nearest_grid_disp.plot()\n",
    "plt.show() # Display the confusion matrix plot\n"
   ]
  },
  {
   "cell_type": "markdown",
   "id": "6bc4ec91",
   "metadata": {},
   "source": [
    "### SVC Classifier (RandomSearchCV) "
   ]
  },
  {
   "cell_type": "code",
   "execution_count": 60,
   "id": "22e54357",
   "metadata": {
    "scrolled": false
   },
   "outputs": [
    {
     "name": "stdout",
     "output_type": "stream",
     "text": [
      "              precision    recall  f1-score   support\n",
      "\n",
      "           0       0.99      1.00      0.99        87\n",
      "           1       1.00      0.99      1.00       110\n",
      "\n",
      "    accuracy                           0.99       197\n",
      "   macro avg       0.99      1.00      0.99       197\n",
      "weighted avg       0.99      0.99      0.99       197\n",
      "\n",
      "0.9954545454545455\n"
     ]
    },
    {
     "data": {
      "image/png": "[encoded data removed]",
      "text/plain": [
       "<Figure size 640x480 with 2 Axes>"
      ]
     },
     "metadata": {},
     "output_type": "display_data"
    }
   ],
   "source": [
    "random_svc_model.fit(X_train_under, y_train_under) # Fitting the model\n",
    "\n",
    "# Making predictions\n",
    "random_svc_pred = random_svc_model.predict(X_valid_under) # Making predictions\n",
    "\n",
    "# Classification tasks require confusion matrixes\n",
    "print(classification_report(y_valid_under, random_svc_pred))\n",
    "print(roc_auc_score(y_valid_under, random_svc_pred))\n",
    "\n",
    "undersampled_svc_random_cm = confusion_matrix(y_valid_under, random_svc_pred, labels=random_svc_model.classes_)\n",
    "undersampled_svc_random_disp = ConfusionMatrixDisplay(confusion_matrix=undersampled_svc_random_cm,\n",
    "                                                     display_labels=random_svc_model.classes_)\n",
    "undersampled_svc_random_disp.plot()\n",
    "plt.show() # Display the confusion matrix plot"
   ]
  },
  {
   "cell_type": "markdown",
   "id": "fe4a3d6a",
   "metadata": {},
   "source": [
    "### SVC Classifier (GridSearchCV)"
   ]
  },
  {
   "cell_type": "code",
   "execution_count": 61,
   "id": "c5e89f02",
   "metadata": {},
   "outputs": [
    {
     "name": "stdout",
     "output_type": "stream",
     "text": [
      "              precision    recall  f1-score   support\n",
      "\n",
      "           0       0.90      0.99      0.94        87\n",
      "           1       0.99      0.91      0.95       110\n",
      "\n",
      "    accuracy                           0.94       197\n",
      "   macro avg       0.94      0.95      0.94       197\n",
      "weighted avg       0.95      0.94      0.94       197\n",
      "\n",
      "0.9487983281086729\n"
     ]
    },
    {
     "data": {
      "image/png": "[encoded data removed]",
      "text/plain": [
       "<Figure size 640x480 with 2 Axes>"
      ]
     },
     "metadata": {},
     "output_type": "display_data"
    }
   ],
   "source": [
    "best_svc_model.fit(X_train_under, y_train_under) # Fitting the model\n",
    "\n",
    "# Making predictions\n",
    "best_svc_pred = best_svc_model.predict(X_valid_under) # Making predictions\n",
    "\n",
    "# Classification tasks require confusion matrixes\n",
    "print(classification_report(y_valid_under, best_svc_pred))\n",
    "print(roc_auc_score(y_valid_under, best_svc_pred))\n",
    "\n",
    "undersampled_svc_grid_cm = confusion_matrix(y_valid_under, best_svc_pred, labels=best_svc_model.classes_)\n",
    "undersampled_svc_grid_disp = ConfusionMatrixDisplay(confusion_matrix=undersampled_svc_grid_cm,\n",
    "                                                     display_labels=best_svc_model.classes_)\n",
    "undersampled_svc_grid_disp.plot()\n",
    "plt.show() # Display the confusion matrix plot"
   ]
  },
  {
   "cell_type": "markdown",
   "id": "31c8e443",
   "metadata": {},
   "source": [
    "## Oversampled Models "
   ]
  },
  {
   "cell_type": "markdown",
   "id": "ce748394",
   "metadata": {},
   "source": [
    "### Logistic Regression (RandomizedSearchCV) "
   ]
  },
  {
   "cell_type": "code",
   "execution_count": 68,
   "id": "4896f343",
   "metadata": {
    "scrolled": false
   },
   "outputs": [
    {
     "name": "stdout",
     "output_type": "stream",
     "text": [
      "              precision    recall  f1-score   support\n",
      "\n",
      "           0       1.00      0.98      0.99     56864\n",
      "           1       0.07      0.93      0.13        98\n",
      "\n",
      "    accuracy                           0.98     56962\n",
      "   macro avg       0.54      0.95      0.56     56962\n",
      "weighted avg       1.00      0.98      0.99     56962\n",
      "\n",
      "ROC AUC Score: 0.9537\n"
     ]
    },
    {
     "data": {
      "image/png": "[encoded data removed]",
      "text/plain": [
       "<Figure size 640x480 with 2 Axes>"
      ]
     },
     "metadata": {},
     "output_type": "display_data"
    },
    {
     "name": "stdout",
     "output_type": "stream",
     "text": [
      "Fitting oversample data took :2.2893521785736084 sec\n"
     ]
    }
   ],
   "source": [
    "# Display Classification Report\n",
    "print(classification_report(y_valid_over, y_valid_pred_over))\n",
    "\n",
    "# Display ROC AUC Score\n",
    "print(f'ROC AUC Score: {roc_auc_score(y_valid_over, y_valid_pred_over):.4f}')\n",
    "\n",
    "# Confusion Matrix\n",
    "log_reg_cf = confusion_matrix(y_valid_over, y_valid_pred_over)\n",
    "ConfusionMatrixDisplay(confusion_matrix=log_reg_cf).plot()\n",
    "plt.show()\n",
    "\n",
    "# Time taken to fit the model\n",
    "t0 = time.time()\n",
    "best_model.fit(X_train_over, y_train_over)\n",
    "t1 = time.time()\n",
    "print(\"Fitting oversample data took :{} sec\".format(t1 - t0))"
   ]
  },
  {
   "cell_type": "markdown",
   "id": "f076d5ed",
   "metadata": {},
   "source": [
    "### The fraud detection performs really well on oversampling, on the other hand, the non-fraud case detection is really poor with 1,381 incorrect false positives."
   ]
  }
 ],
 "metadata": {
  "kernelspec": {
   "display_name": "Python 3 (ipykernel)",
   "language": "python",
   "name": "python3"
  },
  "language_info": {
   "codemirror_mode": {
    "name": "ipython",
    "version": 3
   },
   "file_extension": ".py",
   "mimetype": "text/x-python",
   "name": "python",
   "nbconvert_exporter": "python",
   "pygments_lexer": "ipython3",
   "version": "3.11.5"
  }
 },
 "nbformat": 4,
 "nbformat_minor": 5
}
